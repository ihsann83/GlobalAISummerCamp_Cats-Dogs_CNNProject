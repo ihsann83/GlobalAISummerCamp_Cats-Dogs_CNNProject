{
 "cells": [
  {
   "cell_type": "code",
   "execution_count": 1,
   "id": "2700c381",
   "metadata": {},
   "outputs": [],
   "source": [
    "import os\n",
    "import pandas as pd\n",
    "import numpy as np\n",
    "import seaborn as sns\n",
    "import matplotlib.pyplot as plt\n",
    "from matplotlib.image import imread\n",
    "import tensorflow as tf\n",
    "\n",
    "from PIL import Image\n",
    "from PIL import ImageFont\n",
    "from PIL import ImageDraw\n",
    "\n",
    "from tensorflow import keras\n",
    "from tensorflow.keras import layers\n",
    "from tensorflow.keras.models import Sequential\n",
    "import warnings\n",
    "warnings.filterwarnings('ignore')"
   ]
  },
  {
   "cell_type": "code",
   "execution_count": 2,
   "id": "6c23d604",
   "metadata": {},
   "outputs": [
    {
     "data": {
      "text/plain": [
       "'C:\\\\Users\\\\ihsan\\\\OneDrive\\\\Desktop\\\\globalaihub transfer learner'"
      ]
     },
     "execution_count": 2,
     "metadata": {},
     "output_type": "execute_result"
    }
   ],
   "source": [
    "pwd"
   ]
  },
  {
   "cell_type": "code",
   "execution_count": 3,
   "id": "de952c28",
   "metadata": {},
   "outputs": [],
   "source": [
    "my_data_dir='C:\\\\Users\\\\ihsan\\\\OneDrive\\\\Desktop\\\\globalaihub transfer learner\\\\PetImages'"
   ]
  },
  {
   "cell_type": "code",
   "execution_count": 4,
   "id": "5404de6b",
   "metadata": {},
   "outputs": [
    {
     "data": {
      "text/plain": [
       "['test', 'train', 'validation']"
      ]
     },
     "execution_count": 4,
     "metadata": {},
     "output_type": "execute_result"
    }
   ],
   "source": [
    "os.listdir(my_data_dir)"
   ]
  },
  {
   "cell_type": "code",
   "execution_count": 5,
   "id": "8238ea3e",
   "metadata": {},
   "outputs": [],
   "source": [
    "val_path = my_data_dir+'\\\\validation\\\\'\n",
    "train_path = my_data_dir+'\\\\train\\\\'\n",
    "test_path = my_data_dir+'\\\\test\\\\'"
   ]
  },
  {
   "cell_type": "code",
   "execution_count": 6,
   "id": "68e3d39d",
   "metadata": {},
   "outputs": [
    {
     "data": {
      "text/plain": [
       "['Cat', 'Dog']"
      ]
     },
     "execution_count": 6,
     "metadata": {},
     "output_type": "execute_result"
    }
   ],
   "source": [
    "os.listdir(train_path)"
   ]
  },
  {
   "cell_type": "code",
   "execution_count": 7,
   "id": "f2b91f0f",
   "metadata": {},
   "outputs": [
    {
     "data": {
      "text/plain": [
       "4993"
      ]
     },
     "execution_count": 7,
     "metadata": {},
     "output_type": "execute_result"
    }
   ],
   "source": [
    "len(os.listdir(test_path))"
   ]
  },
  {
   "cell_type": "code",
   "execution_count": 69,
   "id": "369997f5",
   "metadata": {},
   "outputs": [
    {
     "data": {
      "text/plain": [
       "8000"
      ]
     },
     "execution_count": 69,
     "metadata": {},
     "output_type": "execute_result"
    }
   ],
   "source": [
    "len(os.listdir(train_path+'\\\\cat'))"
   ]
  },
  {
   "cell_type": "code",
   "execution_count": 8,
   "id": "ae4ef654",
   "metadata": {},
   "outputs": [
    {
     "data": {
      "text/plain": [
       "8000"
      ]
     },
     "execution_count": 8,
     "metadata": {},
     "output_type": "execute_result"
    }
   ],
   "source": [
    "len(os.listdir(train_path+'\\\\cat')) "
   ]
  },
  {
   "cell_type": "code",
   "execution_count": 9,
   "id": "fb05532b",
   "metadata": {},
   "outputs": [
    {
     "data": {
      "text/plain": [
       "8000"
      ]
     },
     "execution_count": 9,
     "metadata": {},
     "output_type": "execute_result"
    }
   ],
   "source": [
    "len(os.listdir(train_path+'\\\\dog'))"
   ]
  },
  {
   "cell_type": "code",
   "execution_count": 10,
   "id": "8b20549c",
   "metadata": {},
   "outputs": [
    {
     "data": {
      "text/plain": [
       "'0.jpg'"
      ]
     },
     "execution_count": 10,
     "metadata": {},
     "output_type": "execute_result"
    }
   ],
   "source": [
    "os.listdir(train_path+'Cat')[0]"
   ]
  },
  {
   "cell_type": "code",
   "execution_count": 11,
   "id": "70d25a39",
   "metadata": {},
   "outputs": [
    {
     "data": {
      "text/plain": [
       "['10000.jpg',\n",
       " '10001.jpg',\n",
       " '10002.jpg',\n",
       " '10003.jpg',\n",
       " '10004.jpg',\n",
       " '10005.jpg',\n",
       " '10006.jpg',\n",
       " '10007.jpg',\n",
       " '10008.jpg',\n",
       " '10009.jpg',\n",
       " '10010.jpg',\n",
       " '10011.jpg',\n",
       " '10012.jpg',\n",
       " '10013.jpg',\n",
       " '10014.jpg',\n",
       " '10015.jpg',\n",
       " '10016.jpg',\n",
       " '10017.jpg',\n",
       " '10018.jpg',\n",
       " '10019.jpg',\n",
       " '10020.jpg',\n",
       " '10021.jpg',\n",
       " '10022.jpg',\n",
       " '10023.jpg',\n",
       " '10024.jpg',\n",
       " '10025.jpg',\n",
       " '10026.jpg',\n",
       " '10027.jpg',\n",
       " '10028.jpg',\n",
       " '10029.jpg',\n",
       " '10030.jpg',\n",
       " '10031.jpg',\n",
       " '10032.jpg',\n",
       " '10033.jpg',\n",
       " '10034.jpg',\n",
       " '10035.jpg',\n",
       " '10036.jpg',\n",
       " '10037.jpg',\n",
       " '10038.jpg',\n",
       " '10039.jpg',\n",
       " '10040.jpg',\n",
       " '10041.jpg',\n",
       " '10042.jpg',\n",
       " '10043.jpg',\n",
       " '10044.jpg',\n",
       " '10045.jpg',\n",
       " '10046.jpg',\n",
       " '10047.jpg',\n",
       " '10048.jpg',\n",
       " '10049.jpg',\n",
       " '10050.jpg',\n",
       " '10051.jpg',\n",
       " '10052.jpg',\n",
       " '10053.jpg',\n",
       " '10054.jpg',\n",
       " '10055.jpg',\n",
       " '10056.jpg',\n",
       " '10057.jpg',\n",
       " '10058.jpg',\n",
       " '10059.jpg',\n",
       " '10060.jpg',\n",
       " '10061.jpg',\n",
       " '10062.jpg',\n",
       " '10063.jpg',\n",
       " '10064.jpg',\n",
       " '10065.jpg',\n",
       " '10066.jpg',\n",
       " '10067.jpg',\n",
       " '10068.jpg',\n",
       " '10069.jpg',\n",
       " '10070.jpg',\n",
       " '10071.jpg',\n",
       " '10072.jpg',\n",
       " '10073.jpg',\n",
       " '10074.jpg',\n",
       " '10075.jpg',\n",
       " '10076.jpg',\n",
       " '10077.jpg',\n",
       " '10078.jpg',\n",
       " '10079.jpg',\n",
       " '10080.jpg',\n",
       " '10081.jpg',\n",
       " '10082.jpg',\n",
       " '10083.jpg',\n",
       " '10084.jpg',\n",
       " '10085.jpg',\n",
       " '10086.jpg',\n",
       " '10087.jpg',\n",
       " '10088.jpg',\n",
       " '10089.jpg',\n",
       " '10090.jpg',\n",
       " '10091.jpg',\n",
       " '10092.jpg',\n",
       " '10093.jpg',\n",
       " '10094.jpg',\n",
       " '10095.jpg',\n",
       " '10096.jpg',\n",
       " '10097.jpg',\n",
       " '10098.jpg',\n",
       " '10099.jpg',\n",
       " '10100.jpg',\n",
       " '10101.jpg',\n",
       " '10102.jpg',\n",
       " '10103.jpg',\n",
       " '10104.jpg',\n",
       " '10105.jpg',\n",
       " '10106.jpg',\n",
       " '10107.jpg',\n",
       " '10108.jpg',\n",
       " '10109.jpg',\n",
       " '10110.jpg',\n",
       " '10111.jpg',\n",
       " '10112.jpg',\n",
       " '10113.jpg',\n",
       " '10114.jpg',\n",
       " '10115.jpg',\n",
       " '10116.jpg',\n",
       " '10117.jpg',\n",
       " '10118.jpg',\n",
       " '10119.jpg',\n",
       " '10120.jpg',\n",
       " '10121.jpg',\n",
       " '10122.jpg',\n",
       " '10123.jpg',\n",
       " '10124.jpg',\n",
       " '10125.jpg',\n",
       " '10126.jpg',\n",
       " '10127.jpg',\n",
       " '10128.jpg',\n",
       " '10129.jpg',\n",
       " '10130.jpg',\n",
       " '10131.jpg',\n",
       " '10132.jpg',\n",
       " '10133.jpg',\n",
       " '10134.jpg',\n",
       " '10135.jpg',\n",
       " '10136.jpg',\n",
       " '10137.jpg',\n",
       " '10138.jpg',\n",
       " '10139.jpg',\n",
       " '10140.jpg',\n",
       " '10141.jpg',\n",
       " '10142.jpg',\n",
       " '10143.jpg',\n",
       " '10144.jpg',\n",
       " '10145.jpg',\n",
       " '10146.jpg',\n",
       " '10147.jpg',\n",
       " '10148.jpg',\n",
       " '10149.jpg',\n",
       " '10150.jpg',\n",
       " '10151.jpg',\n",
       " '10152.jpg',\n",
       " '10153.jpg',\n",
       " '10154.jpg',\n",
       " '10155.jpg',\n",
       " '10156.jpg',\n",
       " '10157.jpg',\n",
       " '10158.jpg',\n",
       " '10159.jpg',\n",
       " '10160.jpg',\n",
       " '10161.jpg',\n",
       " '10162.jpg',\n",
       " '10163.jpg',\n",
       " '10164.jpg',\n",
       " '10165.jpg',\n",
       " '10166.jpg',\n",
       " '10167.jpg',\n",
       " '10168.jpg',\n",
       " '10169.jpg',\n",
       " '10170.jpg',\n",
       " '10171.jpg',\n",
       " '10172.jpg',\n",
       " '10173.jpg',\n",
       " '10174.jpg',\n",
       " '10175.jpg',\n",
       " '10176.jpg',\n",
       " '10177.jpg',\n",
       " '10178.jpg',\n",
       " '10179.jpg',\n",
       " '10180.jpg',\n",
       " '10181.jpg',\n",
       " '10182.jpg',\n",
       " '10183.jpg',\n",
       " '10184.jpg',\n",
       " '10185.jpg',\n",
       " '10186.jpg',\n",
       " '10187.jpg',\n",
       " '10188.jpg',\n",
       " '10189.jpg',\n",
       " '10190.jpg',\n",
       " '10191.jpg',\n",
       " '10192.jpg',\n",
       " '10193.jpg',\n",
       " '10194.jpg',\n",
       " '10195.jpg',\n",
       " '10196.jpg',\n",
       " '10197.jpg',\n",
       " '10198.jpg',\n",
       " '10199.jpg',\n",
       " '10200.jpg',\n",
       " '10201.jpg',\n",
       " '10202.jpg',\n",
       " '10203.jpg',\n",
       " '10204.jpg',\n",
       " '10205.jpg',\n",
       " '10206.jpg',\n",
       " '10207.jpg',\n",
       " '10208.jpg',\n",
       " '10209.jpg',\n",
       " '10210.jpg',\n",
       " '10211.jpg',\n",
       " '10212.jpg',\n",
       " '10213.jpg',\n",
       " '10214.jpg',\n",
       " '10215.jpg',\n",
       " '10216.jpg',\n",
       " '10217.jpg',\n",
       " '10218.jpg',\n",
       " '10219.jpg',\n",
       " '10220.jpg',\n",
       " '10221.jpg',\n",
       " '10222.jpg',\n",
       " '10223.jpg',\n",
       " '10224.jpg',\n",
       " '10225.jpg',\n",
       " '10226.jpg',\n",
       " '10227.jpg',\n",
       " '10228.jpg',\n",
       " '10229.jpg',\n",
       " '10230.jpg',\n",
       " '10231.jpg',\n",
       " '10232.jpg',\n",
       " '10233.jpg',\n",
       " '10234.jpg',\n",
       " '10235.jpg',\n",
       " '10236.jpg',\n",
       " '10237.jpg',\n",
       " '10238.jpg',\n",
       " '10239.jpg',\n",
       " '10240.jpg',\n",
       " '10241.jpg',\n",
       " '10242.jpg',\n",
       " '10243.jpg',\n",
       " '10244.jpg',\n",
       " '10245.jpg',\n",
       " '10246.jpg',\n",
       " '10247.jpg',\n",
       " '10248.jpg',\n",
       " '10249.jpg',\n",
       " '10250.jpg',\n",
       " '10251.jpg',\n",
       " '10252.jpg',\n",
       " '10253.jpg',\n",
       " '10254.jpg',\n",
       " '10255.jpg',\n",
       " '10256.jpg',\n",
       " '10257.jpg',\n",
       " '10258.jpg',\n",
       " '10259.jpg',\n",
       " '10260.jpg',\n",
       " '10261.jpg',\n",
       " '10262.jpg',\n",
       " '10263.jpg',\n",
       " '10264.jpg',\n",
       " '10265.jpg',\n",
       " '10266.jpg',\n",
       " '10267.jpg',\n",
       " '10268.jpg',\n",
       " '10269.jpg',\n",
       " '10270.jpg',\n",
       " '10271.jpg',\n",
       " '10272.jpg',\n",
       " '10273.jpg',\n",
       " '10274.jpg',\n",
       " '10275.jpg',\n",
       " '10276.jpg',\n",
       " '10277.jpg',\n",
       " '10278.jpg',\n",
       " '10279.jpg',\n",
       " '10280.jpg',\n",
       " '10281.jpg',\n",
       " '10282.jpg',\n",
       " '10283.jpg',\n",
       " '10284.jpg',\n",
       " '10285.jpg',\n",
       " '10286.jpg',\n",
       " '10287.jpg',\n",
       " '10288.jpg',\n",
       " '10289.jpg',\n",
       " '10290.jpg',\n",
       " '10291.jpg',\n",
       " '10292.jpg',\n",
       " '10293.jpg',\n",
       " '10294.jpg',\n",
       " '10295.jpg',\n",
       " '10296.jpg',\n",
       " '10297.jpg',\n",
       " '10298.jpg',\n",
       " '10299.jpg',\n",
       " '10300.jpg',\n",
       " '10301.jpg',\n",
       " '10302.jpg',\n",
       " '10303.jpg',\n",
       " '10304.jpg',\n",
       " '10305.jpg',\n",
       " '10306.jpg',\n",
       " '10307.jpg',\n",
       " '10308.jpg',\n",
       " '10309.jpg',\n",
       " '10310.jpg',\n",
       " '10311.jpg',\n",
       " '10312.jpg',\n",
       " '10313.jpg',\n",
       " '10314.jpg',\n",
       " '10315.jpg',\n",
       " '10316.jpg',\n",
       " '10317.jpg',\n",
       " '10318.jpg',\n",
       " '10319.jpg',\n",
       " '10320.jpg',\n",
       " '10321.jpg',\n",
       " '10322.jpg',\n",
       " '10323.jpg',\n",
       " '10324.jpg',\n",
       " '10325.jpg',\n",
       " '10326.jpg',\n",
       " '10327.jpg',\n",
       " '10328.jpg',\n",
       " '10329.jpg',\n",
       " '10330.jpg',\n",
       " '10331.jpg',\n",
       " '10332.jpg',\n",
       " '10333.jpg',\n",
       " '10334.jpg',\n",
       " '10335.jpg',\n",
       " '10336.jpg',\n",
       " '10337.jpg',\n",
       " '10338.jpg',\n",
       " '10339.jpg',\n",
       " '10340.jpg',\n",
       " '10341.jpg',\n",
       " '10342.jpg',\n",
       " '10343.jpg',\n",
       " '10344.jpg',\n",
       " '10345.jpg',\n",
       " '10346.jpg',\n",
       " '10347.jpg',\n",
       " '10348.jpg',\n",
       " '10349.jpg',\n",
       " '10350.jpg',\n",
       " '10351.jpg',\n",
       " '10352.jpg',\n",
       " '10353.jpg',\n",
       " '10354.jpg',\n",
       " '10355.jpg',\n",
       " '10356.jpg',\n",
       " '10357.jpg',\n",
       " '10358.jpg',\n",
       " '10359.jpg',\n",
       " '10360.jpg',\n",
       " '10361.jpg',\n",
       " '10362.jpg',\n",
       " '10363.jpg',\n",
       " '10364.jpg',\n",
       " '10365.jpg',\n",
       " '10366.jpg',\n",
       " '10367.jpg',\n",
       " '10368.jpg',\n",
       " '10369.jpg',\n",
       " '10370.jpg',\n",
       " '10371.jpg',\n",
       " '10372.jpg',\n",
       " '10373.jpg',\n",
       " '10374.jpg',\n",
       " '10375.jpg',\n",
       " '10376.jpg',\n",
       " '10377.jpg',\n",
       " '10378.jpg',\n",
       " '10379.jpg',\n",
       " '10380.jpg',\n",
       " '10381.jpg',\n",
       " '10382.jpg',\n",
       " '10383.jpg',\n",
       " '10384.jpg',\n",
       " '10385.jpg',\n",
       " '10386.jpg',\n",
       " '10387.jpg',\n",
       " '10388.jpg',\n",
       " '10389.jpg',\n",
       " '10390.jpg',\n",
       " '10391.jpg',\n",
       " '10392.jpg',\n",
       " '10393.jpg',\n",
       " '10394.jpg',\n",
       " '10395.jpg',\n",
       " '10396.jpg',\n",
       " '10397.jpg',\n",
       " '10398.jpg',\n",
       " '10399.jpg',\n",
       " '10400.jpg',\n",
       " '10401.jpg',\n",
       " '10402.jpg',\n",
       " '10403.jpg',\n",
       " '10404.jpg',\n",
       " '10405.jpg',\n",
       " '10406.jpg',\n",
       " '10407.jpg',\n",
       " '10408.jpg',\n",
       " '10409.jpg',\n",
       " '10410.jpg',\n",
       " '10411.jpg',\n",
       " '10412.jpg',\n",
       " '10413.jpg',\n",
       " '10414.jpg',\n",
       " '10415.jpg',\n",
       " '10416.jpg',\n",
       " '10417.jpg',\n",
       " '10418.jpg',\n",
       " '10419.jpg',\n",
       " '10420.jpg',\n",
       " '10421.jpg',\n",
       " '10422.jpg',\n",
       " '10423.jpg',\n",
       " '10424.jpg',\n",
       " '10425.jpg',\n",
       " '10426.jpg',\n",
       " '10427.jpg',\n",
       " '10428.jpg',\n",
       " '10429.jpg',\n",
       " '10430.jpg',\n",
       " '10431.jpg',\n",
       " '10432.jpg',\n",
       " '10433.jpg',\n",
       " '10434.jpg',\n",
       " '10435.jpg',\n",
       " '10436.jpg',\n",
       " '10437.jpg',\n",
       " '10438.jpg',\n",
       " '10439.jpg',\n",
       " '10440.jpg',\n",
       " '10441.jpg',\n",
       " '10442.jpg',\n",
       " '10443.jpg',\n",
       " '10444.jpg',\n",
       " '10445.jpg',\n",
       " '10446.jpg',\n",
       " '10447.jpg',\n",
       " '10448.jpg',\n",
       " '10449.jpg',\n",
       " '10450.jpg',\n",
       " '10451.jpg',\n",
       " '10452.jpg',\n",
       " '10453.jpg',\n",
       " '10454.jpg',\n",
       " '10455.jpg',\n",
       " '10456.jpg',\n",
       " '10457.jpg',\n",
       " '10458.jpg',\n",
       " '10459.jpg',\n",
       " '10460.jpg',\n",
       " '10461.jpg',\n",
       " '10462.jpg',\n",
       " '10463.jpg',\n",
       " '10464.jpg',\n",
       " '10465.jpg',\n",
       " '10466.jpg',\n",
       " '10467.jpg',\n",
       " '10468.jpg',\n",
       " '10469.jpg',\n",
       " '10470.jpg',\n",
       " '10471.jpg',\n",
       " '10472.jpg',\n",
       " '10473.jpg',\n",
       " '10474.jpg',\n",
       " '10475.jpg',\n",
       " '10476.jpg',\n",
       " '10477.jpg',\n",
       " '10478.jpg',\n",
       " '10479.jpg',\n",
       " '10480.jpg',\n",
       " '10481.jpg',\n",
       " '10482.jpg',\n",
       " '10483.jpg',\n",
       " '10484.jpg',\n",
       " '10485.jpg',\n",
       " '10486.jpg',\n",
       " '10487.jpg',\n",
       " '10488.jpg',\n",
       " '10489.jpg',\n",
       " '10490.jpg',\n",
       " '10491.jpg',\n",
       " '10492.jpg',\n",
       " '10493.jpg',\n",
       " '10494.jpg',\n",
       " '10495.jpg',\n",
       " '10496.jpg',\n",
       " '10497.jpg',\n",
       " '10498.jpg',\n",
       " '10499.jpg',\n",
       " '10500.jpg',\n",
       " '10501.jpg',\n",
       " '10502.jpg',\n",
       " '10503.jpg',\n",
       " '10504.jpg',\n",
       " '10505.jpg',\n",
       " '10506.jpg',\n",
       " '10507.jpg',\n",
       " '10508.jpg',\n",
       " '10509.jpg',\n",
       " '10510.jpg',\n",
       " '10511.jpg',\n",
       " '10512.jpg',\n",
       " '10513.jpg',\n",
       " '10514.jpg',\n",
       " '10515.jpg',\n",
       " '10516.jpg',\n",
       " '10517.jpg',\n",
       " '10518.jpg',\n",
       " '10519.jpg',\n",
       " '10520.jpg',\n",
       " '10521.jpg',\n",
       " '10522.jpg',\n",
       " '10523.jpg',\n",
       " '10524.jpg',\n",
       " '10525.jpg',\n",
       " '10526.jpg',\n",
       " '10527.jpg',\n",
       " '10528.jpg',\n",
       " '10529.jpg',\n",
       " '10530.jpg',\n",
       " '10531.jpg',\n",
       " '10532.jpg',\n",
       " '10533.jpg',\n",
       " '10534.jpg',\n",
       " '10535.jpg',\n",
       " '10536.jpg',\n",
       " '10537.jpg',\n",
       " '10538.jpg',\n",
       " '10539.jpg',\n",
       " '10540.jpg',\n",
       " '10541.jpg',\n",
       " '10542.jpg',\n",
       " '10543.jpg',\n",
       " '10544.jpg',\n",
       " '10545.jpg',\n",
       " '10546.jpg',\n",
       " '10547.jpg',\n",
       " '10548.jpg',\n",
       " '10549.jpg',\n",
       " '10550.jpg',\n",
       " '10551.jpg',\n",
       " '10552.jpg',\n",
       " '10553.jpg',\n",
       " '10554.jpg',\n",
       " '10555.jpg',\n",
       " '10556.jpg',\n",
       " '10557.jpg',\n",
       " '10558.jpg',\n",
       " '10559.jpg',\n",
       " '10560.jpg',\n",
       " '10561.jpg',\n",
       " '10562.jpg',\n",
       " '10563.jpg',\n",
       " '10564.jpg',\n",
       " '10565.jpg',\n",
       " '10566.jpg',\n",
       " '10567.jpg',\n",
       " '10568.jpg',\n",
       " '10569.jpg',\n",
       " '10570.jpg',\n",
       " '10571.jpg',\n",
       " '10572.jpg',\n",
       " '10573.jpg',\n",
       " '10574.jpg',\n",
       " '10575.jpg',\n",
       " '10576.jpg',\n",
       " '10577.jpg',\n",
       " '10578.jpg',\n",
       " '10579.jpg',\n",
       " '10580.jpg',\n",
       " '10581.jpg',\n",
       " '10582.jpg',\n",
       " '10583.jpg',\n",
       " '10584.jpg',\n",
       " '10585.jpg',\n",
       " '10586.jpg',\n",
       " '10587.jpg',\n",
       " '10588.jpg',\n",
       " '10589.jpg',\n",
       " '10590.jpg',\n",
       " '10591.jpg',\n",
       " '10592.jpg',\n",
       " '10593.jpg',\n",
       " '10594.jpg',\n",
       " '10595.jpg',\n",
       " '10596.jpg',\n",
       " '10597.jpg',\n",
       " '10598.jpg',\n",
       " '10599.jpg',\n",
       " '10600.jpg',\n",
       " '10601.jpg',\n",
       " '10602.jpg',\n",
       " '10603.jpg',\n",
       " '10604.jpg',\n",
       " '10605.jpg',\n",
       " '10606.jpg',\n",
       " '10607.jpg',\n",
       " '10608.jpg',\n",
       " '10609.jpg',\n",
       " '10610.jpg',\n",
       " '10611.jpg',\n",
       " '10612.jpg',\n",
       " '10613.jpg',\n",
       " '10614.jpg',\n",
       " '10615.jpg',\n",
       " '10616.jpg',\n",
       " '10617.jpg',\n",
       " '10618.jpg',\n",
       " '10619.jpg',\n",
       " '10620.jpg',\n",
       " '10621.jpg',\n",
       " '10622.jpg',\n",
       " '10623.jpg',\n",
       " '10624.jpg',\n",
       " '10625.jpg',\n",
       " '10626.jpg',\n",
       " '10627.jpg',\n",
       " '10628.jpg',\n",
       " '10629.jpg',\n",
       " '10630.jpg',\n",
       " '10631.jpg',\n",
       " '10632.jpg',\n",
       " '10633.jpg',\n",
       " '10634.jpg',\n",
       " '10635.jpg',\n",
       " '10636.jpg',\n",
       " '10637.jpg',\n",
       " '10638.jpg',\n",
       " '10639.jpg',\n",
       " '10640.jpg',\n",
       " '10641.jpg',\n",
       " '10642.jpg',\n",
       " '10643.jpg',\n",
       " '10644.jpg',\n",
       " '10645.jpg',\n",
       " '10646.jpg',\n",
       " '10647.jpg',\n",
       " '10648.jpg',\n",
       " '10649.jpg',\n",
       " '10650.jpg',\n",
       " '10651.jpg',\n",
       " '10652.jpg',\n",
       " '10653.jpg',\n",
       " '10654.jpg',\n",
       " '10655.jpg',\n",
       " '10656.jpg',\n",
       " '10657.jpg',\n",
       " '10658.jpg',\n",
       " '10659.jpg',\n",
       " '10660.jpg',\n",
       " '10661.jpg',\n",
       " '10662.jpg',\n",
       " '10663.jpg',\n",
       " '10664.jpg',\n",
       " '10665.jpg',\n",
       " '10666.jpg',\n",
       " '10667.jpg',\n",
       " '10668.jpg',\n",
       " '10669.jpg',\n",
       " '10670.jpg',\n",
       " '10671.jpg',\n",
       " '10672.jpg',\n",
       " '10673.jpg',\n",
       " '10674.jpg',\n",
       " '10675.jpg',\n",
       " '10676.jpg',\n",
       " '10677.jpg',\n",
       " '10678.jpg',\n",
       " '10679.jpg',\n",
       " '10680.jpg',\n",
       " '10681.jpg',\n",
       " '10682.jpg',\n",
       " '10683.jpg',\n",
       " '10684.jpg',\n",
       " '10685.jpg',\n",
       " '10686.jpg',\n",
       " '10687.jpg',\n",
       " '10688.jpg',\n",
       " '10689.jpg',\n",
       " '10690.jpg',\n",
       " '10691.jpg',\n",
       " '10692.jpg',\n",
       " '10693.jpg',\n",
       " '10694.jpg',\n",
       " '10695.jpg',\n",
       " '10696.jpg',\n",
       " '10697.jpg',\n",
       " '10698.jpg',\n",
       " '10699.jpg',\n",
       " '10700.jpg',\n",
       " '10701.jpg',\n",
       " '10702.jpg',\n",
       " '10703.jpg',\n",
       " '10704.jpg',\n",
       " '10705.jpg',\n",
       " '10706.jpg',\n",
       " '10707.jpg',\n",
       " '10708.jpg',\n",
       " '10709.jpg',\n",
       " '10710.jpg',\n",
       " '10711.jpg',\n",
       " '10712.jpg',\n",
       " '10713.jpg',\n",
       " '10714.jpg',\n",
       " '10715.jpg',\n",
       " '10716.jpg',\n",
       " '10717.jpg',\n",
       " '10718.jpg',\n",
       " '10719.jpg',\n",
       " '10720.jpg',\n",
       " '10721.jpg',\n",
       " '10722.jpg',\n",
       " '10723.jpg',\n",
       " '10724.jpg',\n",
       " '10725.jpg',\n",
       " '10726.jpg',\n",
       " '10727.jpg',\n",
       " '10728.jpg',\n",
       " '10729.jpg',\n",
       " '10730.jpg',\n",
       " '10731.jpg',\n",
       " '10732.jpg',\n",
       " '10733.jpg',\n",
       " '10734.jpg',\n",
       " '10735.jpg',\n",
       " '10736.jpg',\n",
       " '10737.jpg',\n",
       " '10738.jpg',\n",
       " '10739.jpg',\n",
       " '10740.jpg',\n",
       " '10741.jpg',\n",
       " '10742.jpg',\n",
       " '10743.jpg',\n",
       " '10744.jpg',\n",
       " '10745.jpg',\n",
       " '10746.jpg',\n",
       " '10747.jpg',\n",
       " '10748.jpg',\n",
       " '10749.jpg',\n",
       " '10750.jpg',\n",
       " '10751.jpg',\n",
       " '10752.jpg',\n",
       " '10753.jpg',\n",
       " '10754.jpg',\n",
       " '10755.jpg',\n",
       " '10756.jpg',\n",
       " '10757.jpg',\n",
       " '10758.jpg',\n",
       " '10759.jpg',\n",
       " '10760.jpg',\n",
       " '10761.jpg',\n",
       " '10762.jpg',\n",
       " '10763.jpg',\n",
       " '10764.jpg',\n",
       " '10765.jpg',\n",
       " '10766.jpg',\n",
       " '10767.jpg',\n",
       " '10768.jpg',\n",
       " '10769.jpg',\n",
       " '10770.jpg',\n",
       " '10771.jpg',\n",
       " '10772.jpg',\n",
       " '10773.jpg',\n",
       " '10774.jpg',\n",
       " '10775.jpg',\n",
       " '10776.jpg',\n",
       " '10777.jpg',\n",
       " '10778.jpg',\n",
       " '10779.jpg',\n",
       " '10780.jpg',\n",
       " '10781.jpg',\n",
       " '10782.jpg',\n",
       " '10783.jpg',\n",
       " '10784.jpg',\n",
       " '10785.jpg',\n",
       " '10786.jpg',\n",
       " '10787.jpg',\n",
       " '10788.jpg',\n",
       " '10789.jpg',\n",
       " '10790.jpg',\n",
       " '10791.jpg',\n",
       " '10792.jpg',\n",
       " '10793.jpg',\n",
       " '10794.jpg',\n",
       " '10795.jpg',\n",
       " '10796.jpg',\n",
       " '10797.jpg',\n",
       " '10798.jpg',\n",
       " '10799.jpg',\n",
       " '10800.jpg',\n",
       " '10801.jpg',\n",
       " '10802.jpg',\n",
       " '10803.jpg',\n",
       " '10804.jpg',\n",
       " '10805.jpg',\n",
       " '10806.jpg',\n",
       " '10807.jpg',\n",
       " '10808.jpg',\n",
       " '10809.jpg',\n",
       " '10810.jpg',\n",
       " '10811.jpg',\n",
       " '10812.jpg',\n",
       " '10813.jpg',\n",
       " '10814.jpg',\n",
       " '10815.jpg',\n",
       " '10816.jpg',\n",
       " '10817.jpg',\n",
       " '10818.jpg',\n",
       " '10819.jpg',\n",
       " '10820.jpg',\n",
       " '10821.jpg',\n",
       " '10822.jpg',\n",
       " '10823.jpg',\n",
       " '10824.jpg',\n",
       " '10825.jpg',\n",
       " '10826.jpg',\n",
       " '10827.jpg',\n",
       " '10828.jpg',\n",
       " '10829.jpg',\n",
       " '10830.jpg',\n",
       " '10831.jpg',\n",
       " '10832.jpg',\n",
       " '10833.jpg',\n",
       " '10834.jpg',\n",
       " '10835.jpg',\n",
       " '10836.jpg',\n",
       " '10837.jpg',\n",
       " '10838.jpg',\n",
       " '10839.jpg',\n",
       " '10840.jpg',\n",
       " '10841.jpg',\n",
       " '10842.jpg',\n",
       " '10843.jpg',\n",
       " '10844.jpg',\n",
       " '10845.jpg',\n",
       " '10846.jpg',\n",
       " '10847.jpg',\n",
       " '10848.jpg',\n",
       " '10849.jpg',\n",
       " '10850.jpg',\n",
       " '10851.jpg',\n",
       " '10852.jpg',\n",
       " '10853.jpg',\n",
       " '10854.jpg',\n",
       " '10855.jpg',\n",
       " '10856.jpg',\n",
       " '10857.jpg',\n",
       " '10858.jpg',\n",
       " '10859.jpg',\n",
       " '10860.jpg',\n",
       " '10861.jpg',\n",
       " '10862.jpg',\n",
       " '10863.jpg',\n",
       " '10864.jpg',\n",
       " '10865.jpg',\n",
       " '10866.jpg',\n",
       " '10867.jpg',\n",
       " '10868.jpg',\n",
       " '10869.jpg',\n",
       " '10870.jpg',\n",
       " '10871.jpg',\n",
       " '10872.jpg',\n",
       " '10873.jpg',\n",
       " '10874.jpg',\n",
       " '10875.jpg',\n",
       " '10876.jpg',\n",
       " '10877.jpg',\n",
       " '10878.jpg',\n",
       " '10879.jpg',\n",
       " '10880.jpg',\n",
       " '10881.jpg',\n",
       " '10882.jpg',\n",
       " '10883.jpg',\n",
       " '10884.jpg',\n",
       " '10885.jpg',\n",
       " '10886.jpg',\n",
       " '10887.jpg',\n",
       " '10888.jpg',\n",
       " '10889.jpg',\n",
       " '10890.jpg',\n",
       " '10891.jpg',\n",
       " '10892.jpg',\n",
       " '10893.jpg',\n",
       " '10894.jpg',\n",
       " '10895.jpg',\n",
       " '10896.jpg',\n",
       " '10897.jpg',\n",
       " '10898.jpg',\n",
       " '10899.jpg',\n",
       " '10900.jpg',\n",
       " '10901.jpg',\n",
       " '10902.jpg',\n",
       " '10903.jpg',\n",
       " '10904.jpg',\n",
       " '10905.jpg',\n",
       " '10906.jpg',\n",
       " '10907.jpg',\n",
       " '10908.jpg',\n",
       " '10909.jpg',\n",
       " '10910.jpg',\n",
       " '10911.jpg',\n",
       " '10912.jpg',\n",
       " '10913.jpg',\n",
       " '10914.jpg',\n",
       " '10915.jpg',\n",
       " '10916.jpg',\n",
       " '10917.jpg',\n",
       " '10918.jpg',\n",
       " '10919.jpg',\n",
       " '10920.jpg',\n",
       " '10921.jpg',\n",
       " '10922.jpg',\n",
       " '10923.jpg',\n",
       " '10924.jpg',\n",
       " '10925.jpg',\n",
       " '10926.jpg',\n",
       " '10927.jpg',\n",
       " '10928.jpg',\n",
       " '10929.jpg',\n",
       " '10930.jpg',\n",
       " '10931.jpg',\n",
       " '10932.jpg',\n",
       " '10933.jpg',\n",
       " '10934.jpg',\n",
       " '10935.jpg',\n",
       " '10936.jpg',\n",
       " '10937.jpg',\n",
       " '10938.jpg',\n",
       " '10939.jpg',\n",
       " '10940.jpg',\n",
       " '10941.jpg',\n",
       " '10942.jpg',\n",
       " '10943.jpg',\n",
       " '10944.jpg',\n",
       " '10945.jpg',\n",
       " '10946.jpg',\n",
       " '10947.jpg',\n",
       " '10948.jpg',\n",
       " '10949.jpg',\n",
       " '10950.jpg',\n",
       " '10951.jpg',\n",
       " '10952.jpg',\n",
       " '10953.jpg',\n",
       " '10954.jpg',\n",
       " '10955.jpg',\n",
       " '10956.jpg',\n",
       " '10957.jpg',\n",
       " '10958.jpg',\n",
       " '10959.jpg',\n",
       " '10960.jpg',\n",
       " '10961.jpg',\n",
       " '10962.jpg',\n",
       " '10963.jpg',\n",
       " '10964.jpg',\n",
       " '10965.jpg',\n",
       " '10966.jpg',\n",
       " '10967.jpg',\n",
       " '10968.jpg',\n",
       " '10969.jpg',\n",
       " '10970.jpg',\n",
       " '10971.jpg',\n",
       " '10972.jpg',\n",
       " '10973.jpg',\n",
       " '10974.jpg',\n",
       " '10975.jpg',\n",
       " '10976.jpg',\n",
       " '10977.jpg',\n",
       " '10978.jpg',\n",
       " '10979.jpg',\n",
       " '10980.jpg',\n",
       " '10981.jpg',\n",
       " '10982.jpg',\n",
       " '10983.jpg',\n",
       " '10984.jpg',\n",
       " '10985.jpg',\n",
       " '10986.jpg',\n",
       " '10987.jpg',\n",
       " '10988.jpg',\n",
       " '10989.jpg',\n",
       " '10990.jpg',\n",
       " '10991.jpg',\n",
       " '10992.jpg',\n",
       " '10993.jpg',\n",
       " '10994.jpg',\n",
       " '10995.jpg',\n",
       " '10996.jpg',\n",
       " '10997.jpg',\n",
       " '10998.jpg',\n",
       " '10999.jpg',\n",
       " ...]"
      ]
     },
     "execution_count": 11,
     "metadata": {},
     "output_type": "execute_result"
    }
   ],
   "source": [
    "os.listdir(train_path+'Dog')"
   ]
  },
  {
   "cell_type": "code",
   "execution_count": 12,
   "id": "3038c0b1",
   "metadata": {},
   "outputs": [],
   "source": [
    "path1=train_path+'/cat'+'/0.jpg'\n",
    "path2=train_path+'/dog'+'/10000.jpg'"
   ]
  },
  {
   "cell_type": "code",
   "execution_count": 13,
   "id": "4069b924",
   "metadata": {},
   "outputs": [],
   "source": [
    "cat_img=imread(path1)\n",
    "dog_img=imread(path2)"
   ]
  },
  {
   "cell_type": "code",
   "execution_count": 14,
   "id": "acf24a20",
   "metadata": {},
   "outputs": [
    {
     "data": {
      "text/plain": [
       "<matplotlib.image.AxesImage at 0x1f2930f9160>"
      ]
     },
     "execution_count": 14,
     "metadata": {},
     "output_type": "execute_result"
    },
    {
     "data": {
      "image/png": "[encoded data removed]",
      "text/plain": [
       "<Figure size 432x288 with 1 Axes>"
      ]
     },
     "metadata": {
      "needs_background": "light"
     },
     "output_type": "display_data"
    }
   ],
   "source": [
    "plt.imshow(cat_img)"
   ]
  },
  {
   "cell_type": "code",
   "execution_count": 15,
   "id": "8d5301e0",
   "metadata": {},
   "outputs": [
    {
     "data": {
      "text/plain": [
       "<matplotlib.image.AxesImage at 0x1f29384e160>"
      ]
     },
     "execution_count": 15,
     "metadata": {},
     "output_type": "execute_result"
    },
    {
     "data": {
      "image/png": "[encoded data removed]",
      "text/plain": [
       "<Figure size 432x288 with 1 Axes>"
      ]
     },
     "metadata": {
      "needs_background": "light"
     },
     "output_type": "display_data"
    }
   ],
   "source": [
    "plt.imshow(dog_img)"
   ]
  },
  {
   "cell_type": "markdown",
   "id": "6f5c0222",
   "metadata": {},
   "source": [
    "**Let's decide on the final dimension of these images.**"
   ]
  },
  {
   "cell_type": "code",
   "execution_count": 16,
   "id": "2babee90",
   "metadata": {},
   "outputs": [
    {
     "data": {
      "text/plain": [
       "(375, 500, 3)"
      ]
     },
     "execution_count": 16,
     "metadata": {},
     "output_type": "execute_result"
    }
   ],
   "source": [
    "cat_img.shape"
   ]
  },
  {
   "cell_type": "code",
   "execution_count": 17,
   "id": "e66814cb",
   "metadata": {},
   "outputs": [
    {
     "data": {
      "text/plain": [
       "(413, 263, 3)"
      ]
     },
     "execution_count": 17,
     "metadata": {},
     "output_type": "execute_result"
    }
   ],
   "source": [
    "dog_img.shape"
   ]
  },
  {
   "cell_type": "code",
   "execution_count": 71,
   "id": "5b01d85c",
   "metadata": {},
   "outputs": [
    {
     "data": {
      "text/plain": [
       "(375, 500, 3)"
      ]
     },
     "execution_count": 71,
     "metadata": {},
     "output_type": "execute_result"
    }
   ],
   "source": [
    "img.shape"
   ]
  },
  {
   "cell_type": "code",
   "execution_count": 18,
   "id": "b7f0a6b3",
   "metadata": {},
   "outputs": [],
   "source": [
    "image_shape = (128,128,3)\n",
    "# I've equalized the size of all photos to a value.\n",
    "\n",
    "# it will fill the edges of images smaller than 128 with 0s\n",
    "# it will crop images larger than this to 128,128."
   ]
  },
  {
   "cell_type": "code",
   "execution_count": 19,
   "id": "d3db3b4d",
   "metadata": {},
   "outputs": [
    {
     "data": {
      "text/plain": [
       "255"
      ]
     },
     "execution_count": 19,
     "metadata": {},
     "output_type": "execute_result"
    }
   ],
   "source": [
    "cat_img.max()"
   ]
  },
  {
   "cell_type": "code",
   "execution_count": 20,
   "id": "54f16ec5",
   "metadata": {},
   "outputs": [
    {
     "data": {
      "text/plain": [
       "255"
      ]
     },
     "execution_count": 20,
     "metadata": {},
     "output_type": "execute_result"
    }
   ],
   "source": [
    "dog_img.max()"
   ]
  },
  {
   "cell_type": "markdown",
   "id": "47517ea2",
   "metadata": {},
   "source": [
    "**Image Manipulation**\n",
    "\n",
    "We can use the ImageDataGenerator to manipulate the images with rotation, resizing, and scaling so the model becomes more robust to different images that our data set doesn't have. ImageDataGenerator does the followings.\n",
    "\n",
    "* Accepts a batch of images used for training.\n",
    "* Applies a series of random transformations to each image in the batch.\n",
    "* Replaces the original batch with randomly transformed batch.\n",
    "* Training the CNN on this randomly transformed batch.\n",
    "\n",
    "The goal of applying data augmentation is to have a more generalized model."
   ]
  },
  {
   "cell_type": "code",
   "execution_count": 21,
   "id": "69fa2eca",
   "metadata": {},
   "outputs": [],
   "source": [
    "from tensorflow.keras.preprocessing.image import ImageDataGenerator"
   ]
  },
  {
   "cell_type": "code",
   "execution_count": 22,
   "id": "f118dfd0",
   "metadata": {},
   "outputs": [],
   "source": [
    "image_gen = ImageDataGenerator(rotation_range=20, # rotate the image 20 degrees\n",
    "                               width_shift_range=0.10, # Shift the pic width by a max of 5%\n",
    "                               height_shift_range=0.10, # Shift the pic height by a max of 5%\n",
    "                               rescale=1/255, # Rescale the image by normalzing it.\n",
    "                               shear_range=0.1, # Shear means cutting away part of the image (max 10%)\n",
    "                               zoom_range=0.1, # Zoom in by 10% max\n",
    "                               horizontal_flip=True, # Allo horizontal flipping\n",
    "                               fill_mode='nearest' # Fill in missing pixels with the nearest filled value\n",
    "                              )"
   ]
  },
  {
   "cell_type": "code",
   "execution_count": 23,
   "id": "4df15f22",
   "metadata": {},
   "outputs": [
    {
     "data": {
      "text/plain": [
       "<matplotlib.image.AxesImage at 0x1f2938c0e20>"
      ]
     },
     "execution_count": 23,
     "metadata": {},
     "output_type": "execute_result"
    },
    {
     "data": {
      "image/png": "[encoded data removed]",
      "text/plain": [
       "<Figure size 432x288 with 1 Axes>"
      ]
     },
     "metadata": {
      "needs_background": "light"
     },
     "output_type": "display_data"
    }
   ],
   "source": [
    "plt.imshow(image_gen.random_transform(dog_img))"
   ]
  },
  {
   "cell_type": "markdown",
   "id": "e4af3d3b",
   "metadata": {},
   "source": [
    "# Generating many manipulated images from a directory"
   ]
  },
  {
   "cell_type": "code",
   "execution_count": 24,
   "id": "d02fd6d4",
   "metadata": {},
   "outputs": [
    {
     "name": "stdout",
     "output_type": "stream",
     "text": [
      "Found 4007 images belonging to 2 classes.\n"
     ]
    },
    {
     "data": {
      "text/plain": [
       "<keras.preprocessing.image.DirectoryIterator at 0x1f29388ba30>"
      ]
     },
     "execution_count": 24,
     "metadata": {},
     "output_type": "execute_result"
    }
   ],
   "source": [
    "image_gen.flow_from_directory(val_path)"
   ]
  },
  {
   "cell_type": "code",
   "execution_count": 25,
   "id": "74dc0755",
   "metadata": {},
   "outputs": [
    {
     "name": "stdout",
     "output_type": "stream",
     "text": [
      "Found 0 images belonging to 0 classes.\n"
     ]
    },
    {
     "data": {
      "text/plain": [
       "<keras.preprocessing.image.DirectoryIterator at 0x1f29390b7f0>"
      ]
     },
     "execution_count": 25,
     "metadata": {},
     "output_type": "execute_result"
    }
   ],
   "source": [
    "image_gen.flow_from_directory(test_path)"
   ]
  },
  {
   "cell_type": "code",
   "execution_count": 26,
   "id": "d79a1bcc",
   "metadata": {},
   "outputs": [
    {
     "name": "stdout",
     "output_type": "stream",
     "text": [
      "Found 15998 images belonging to 2 classes.\n"
     ]
    },
    {
     "data": {
      "text/plain": [
       "<keras.preprocessing.image.DirectoryIterator at 0x1f293916fa0>"
      ]
     },
     "execution_count": 26,
     "metadata": {},
     "output_type": "execute_result"
    }
   ],
   "source": [
    "image_gen.flow_from_directory(train_path)"
   ]
  },
  {
   "cell_type": "markdown",
   "id": "705d474c",
   "metadata": {},
   "source": [
    "# Creating the Model"
   ]
  },
  {
   "cell_type": "code",
   "execution_count": 27,
   "id": "cf8cf011",
   "metadata": {},
   "outputs": [],
   "source": [
    "from tensorflow.keras.models import Sequential\n",
    "from tensorflow.keras.layers import Activation, Dropout, Flatten, Dense, Conv2D, MaxPooling2D"
   ]
  },
  {
   "cell_type": "code",
   "execution_count": 28,
   "id": "9451bf11",
   "metadata": {},
   "outputs": [],
   "source": [
    "model = Sequential()\n",
    "\n",
    "model.add(Conv2D(filters=32, kernel_size=(3,3),input_shape=image_shape, activation='relu',))\n",
    "model.add(MaxPooling2D(pool_size=(2, 2)))\n",
    "\n",
    "model.add(Conv2D(filters=64, kernel_size=(3,3),input_shape=image_shape, activation='relu',))\n",
    "model.add(MaxPooling2D(pool_size=(2, 2)))\n",
    "\n",
    "model.add(Conv2D(filters=64, kernel_size=(3,3),input_shape=image_shape, activation='relu',))\n",
    "model.add(MaxPooling2D(pool_size=(2, 2)))\n",
    "\n",
    "\n",
    "model.add(Flatten())\n",
    "\n",
    "\n",
    "model.add(Dense(128))\n",
    "model.add(Activation('relu'))\n",
    "\n",
    "\n",
    "model.add(Dropout(0.5))\n",
    "\n",
    "\n",
    "model.add(Dense(1))\n",
    "model.add(Activation('sigmoid'))\n",
    "\n",
    "model.compile(loss='binary_crossentropy',\n",
    "              optimizer='adam',\n",
    "              metrics=['accuracy'])"
   ]
  },
  {
   "cell_type": "code",
   "execution_count": 29,
   "id": "7adfdbad",
   "metadata": {},
   "outputs": [
    {
     "name": "stdout",
     "output_type": "stream",
     "text": [
      "Model: \"sequential\"\n",
      "_________________________________________________________________\n",
      " Layer (type)                Output Shape              Param #   \n",
      "=================================================================\n",
      " conv2d (Conv2D)             (None, 126, 126, 32)      896       \n",
      "                                                                 \n",
      " max_pooling2d (MaxPooling2D  (None, 63, 63, 32)       0         \n",
      " )                                                               \n",
      "                                                                 \n",
      " conv2d_1 (Conv2D)           (None, 61, 61, 64)        18496     \n",
      "                                                                 \n",
      " max_pooling2d_1 (MaxPooling  (None, 30, 30, 64)       0         \n",
      " 2D)                                                             \n",
      "                                                                 \n",
      " conv2d_2 (Conv2D)           (None, 28, 28, 64)        36928     \n",
      "                                                                 \n",
      " max_pooling2d_2 (MaxPooling  (None, 14, 14, 64)       0         \n",
      " 2D)                                                             \n",
      "                                                                 \n",
      " flatten (Flatten)           (None, 12544)             0         \n",
      "                                                                 \n",
      " dense (Dense)               (None, 128)               1605760   \n",
      "                                                                 \n",
      " activation (Activation)     (None, 128)               0         \n",
      "                                                                 \n",
      " dropout (Dropout)           (None, 128)               0         \n",
      "                                                                 \n",
      " dense_1 (Dense)             (None, 1)                 129       \n",
      "                                                                 \n",
      " activation_1 (Activation)   (None, 1)                 0         \n",
      "                                                                 \n",
      "=================================================================\n",
      "Total params: 1,662,209\n",
      "Trainable params: 1,662,209\n",
      "Non-trainable params: 0\n",
      "_________________________________________________________________\n"
     ]
    }
   ],
   "source": [
    "model.summary()"
   ]
  },
  {
   "cell_type": "markdown",
   "id": "442f1769",
   "metadata": {},
   "source": [
    "# Early Stopping"
   ]
  },
  {
   "cell_type": "code",
   "execution_count": 30,
   "id": "fc2ebb14",
   "metadata": {},
   "outputs": [],
   "source": [
    "from tensorflow.keras.callbacks import EarlyStopping"
   ]
  },
  {
   "cell_type": "code",
   "execution_count": 31,
   "id": "ca2ffc05",
   "metadata": {},
   "outputs": [],
   "source": [
    "early_stop = EarlyStopping(monitor='val_loss',patience=2)"
   ]
  },
  {
   "cell_type": "code",
   "execution_count": 32,
   "id": "36033cfe",
   "metadata": {},
   "outputs": [],
   "source": [
    "batch_size = 16"
   ]
  },
  {
   "cell_type": "code",
   "execution_count": 33,
   "id": "09a8eeb3",
   "metadata": {},
   "outputs": [
    {
     "name": "stdout",
     "output_type": "stream",
     "text": [
      "Found 15998 images belonging to 2 classes.\n"
     ]
    }
   ],
   "source": [
    "train_image_gen = image_gen.flow_from_directory(train_path,\n",
    "                                               target_size=image_shape[:2],\n",
    "                                                color_mode='rgb',\n",
    "                                               batch_size=batch_size,\n",
    "                                               class_mode='binary')"
   ]
  },
  {
   "cell_type": "code",
   "execution_count": 34,
   "id": "33abe8c0",
   "metadata": {},
   "outputs": [
    {
     "name": "stdout",
     "output_type": "stream",
     "text": [
      "Found 4007 images belonging to 2 classes.\n"
     ]
    }
   ],
   "source": [
    "val_image_gen = image_gen.flow_from_directory(val_path,\n",
    "                                               target_size=image_shape[:2],\n",
    "                                               color_mode='rgb',\n",
    "                                               batch_size=batch_size,\n",
    "                                               class_mode='binary',shuffle=False)"
   ]
  },
  {
   "cell_type": "code",
   "execution_count": 35,
   "id": "d9a6be58",
   "metadata": {},
   "outputs": [
    {
     "name": "stdout",
     "output_type": "stream",
     "text": [
      "Found 0 images belonging to 0 classes.\n"
     ]
    }
   ],
   "source": [
    "test_image_gen = image_gen.flow_from_directory(test_path,\n",
    "                                               target_size=image_shape[:2],\n",
    "                                               color_mode='rgb',\n",
    "                                               batch_size=batch_size,\n",
    "                                               class_mode='binary',shuffle=False)"
   ]
  },
  {
   "cell_type": "code",
   "execution_count": 36,
   "id": "99908da7",
   "metadata": {},
   "outputs": [
    {
     "data": {
      "text/plain": [
       "{'Cat': 0, 'Dog': 1}"
      ]
     },
     "execution_count": 36,
     "metadata": {},
     "output_type": "execute_result"
    }
   ],
   "source": [
    "train_image_gen.class_indices"
   ]
  },
  {
   "cell_type": "code",
   "execution_count": 37,
   "id": "b294b3d2",
   "metadata": {},
   "outputs": [
    {
     "data": {
      "text/plain": [
       "{}"
      ]
     },
     "execution_count": 37,
     "metadata": {},
     "output_type": "execute_result"
    }
   ],
   "source": [
    "test_image_gen.class_indices"
   ]
  },
  {
   "cell_type": "markdown",
   "id": "8cca04f0",
   "metadata": {},
   "source": [
    "# Model Training"
   ]
  },
  {
   "cell_type": "code",
   "execution_count": 38,
   "id": "e6362f3c",
   "metadata": {},
   "outputs": [
    {
     "data": {
      "text/plain": [
       "<keras.preprocessing.image.DirectoryIterator at 0x1f293eca6d0>"
      ]
     },
     "execution_count": 38,
     "metadata": {},
     "output_type": "execute_result"
    }
   ],
   "source": [
    "train_image_gen"
   ]
  },
  {
   "cell_type": "code",
   "execution_count": 39,
   "id": "3680e011",
   "metadata": {},
   "outputs": [
    {
     "data": {
      "text/plain": [
       "<keras.preprocessing.image.DirectoryIterator at 0x1f29391bb50>"
      ]
     },
     "execution_count": 39,
     "metadata": {},
     "output_type": "execute_result"
    }
   ],
   "source": [
    "val_image_gen"
   ]
  },
  {
   "cell_type": "code",
   "execution_count": 40,
   "id": "804608fd",
   "metadata": {},
   "outputs": [],
   "source": [
    "import warnings\n",
    "warnings.filterwarnings('ignore')"
   ]
  },
  {
   "cell_type": "code",
   "execution_count": 41,
   "id": "4194d48a",
   "metadata": {},
   "outputs": [
    {
     "name": "stdout",
     "output_type": "stream",
     "text": [
      "Epoch 1/10\n",
      "1000/1000 [==============================] - 250s 250ms/step - loss: 0.6854 - accuracy: 0.5618 - val_loss: 0.6714 - val_accuracy: 0.5975\n",
      "Epoch 2/10\n",
      "1000/1000 [==============================] - 243s 243ms/step - loss: 0.6382 - accuracy: 0.6373 - val_loss: 0.5896 - val_accuracy: 0.6978\n",
      "Epoch 3/10\n",
      "1000/1000 [==============================] - 243s 243ms/step - loss: 0.5750 - accuracy: 0.7094 - val_loss: 0.5266 - val_accuracy: 0.7305\n",
      "Epoch 4/10\n",
      "1000/1000 [==============================] - 244s 244ms/step - loss: 0.5348 - accuracy: 0.7365 - val_loss: 0.4987 - val_accuracy: 0.7547\n",
      "Epoch 5/10\n",
      "1000/1000 [==============================] - 523s 523ms/step - loss: 0.5015 - accuracy: 0.7559 - val_loss: 0.4958 - val_accuracy: 0.7542\n",
      "Epoch 6/10\n",
      "1000/1000 [==============================] - 240s 239ms/step - loss: 0.4818 - accuracy: 0.7728 - val_loss: 0.4658 - val_accuracy: 0.7784\n",
      "Epoch 7/10\n",
      "1000/1000 [==============================] - 242s 242ms/step - loss: 0.4614 - accuracy: 0.7832 - val_loss: 0.4483 - val_accuracy: 0.7946\n",
      "Epoch 8/10\n",
      "1000/1000 [==============================] - 297s 297ms/step - loss: 0.4534 - accuracy: 0.7868 - val_loss: 0.4884 - val_accuracy: 0.7544\n",
      "Epoch 9/10\n",
      "1000/1000 [==============================] - 251s 251ms/step - loss: 0.4369 - accuracy: 0.8013 - val_loss: 0.4252 - val_accuracy: 0.8083\n",
      "Epoch 10/10\n",
      "1000/1000 [==============================] - 254s 254ms/step - loss: 0.4255 - accuracy: 0.8064 - val_loss: 0.4353 - val_accuracy: 0.7991\n"
     ]
    }
   ],
   "source": [
    "results = model.fit_generator(train_image_gen,epochs=10,\n",
    "                              validation_data=val_image_gen,\n",
    "                             callbacks=[early_stop])"
   ]
  },
  {
   "cell_type": "markdown",
   "id": "0ad309e6",
   "metadata": {},
   "source": [
    "# Evaluating the Model"
   ]
  },
  {
   "cell_type": "code",
   "execution_count": 43,
   "id": "e018a9e8",
   "metadata": {},
   "outputs": [
    {
     "data": {
      "text/html": [
       "<div>\n",
       "<style scoped>\n",
       "    .dataframe tbody tr th:only-of-type {\n",
       "        vertical-align: middle;\n",
       "    }\n",
       "\n",
       "    .dataframe tbody tr th {\n",
       "        vertical-align: top;\n",
       "    }\n",
       "\n",
       "    .dataframe thead th {\n",
       "        text-align: right;\n",
       "    }\n",
       "</style>\n",
       "<table border=\"1\" class=\"dataframe\">\n",
       "  <thead>\n",
       "    <tr style=\"text-align: right;\">\n",
       "      <th></th>\n",
       "      <th>loss</th>\n",
       "      <th>accuracy</th>\n",
       "      <th>val_loss</th>\n",
       "      <th>val_accuracy</th>\n",
       "    </tr>\n",
       "  </thead>\n",
       "  <tbody>\n",
       "    <tr>\n",
       "      <th>0</th>\n",
       "      <td>0.685428</td>\n",
       "      <td>0.561758</td>\n",
       "      <td>0.671413</td>\n",
       "      <td>0.597454</td>\n",
       "    </tr>\n",
       "    <tr>\n",
       "      <th>1</th>\n",
       "      <td>0.638222</td>\n",
       "      <td>0.637330</td>\n",
       "      <td>0.589559</td>\n",
       "      <td>0.697779</td>\n",
       "    </tr>\n",
       "    <tr>\n",
       "      <th>2</th>\n",
       "      <td>0.574970</td>\n",
       "      <td>0.709401</td>\n",
       "      <td>0.526610</td>\n",
       "      <td>0.730472</td>\n",
       "    </tr>\n",
       "    <tr>\n",
       "      <th>3</th>\n",
       "      <td>0.534788</td>\n",
       "      <td>0.736530</td>\n",
       "      <td>0.498749</td>\n",
       "      <td>0.754679</td>\n",
       "    </tr>\n",
       "    <tr>\n",
       "      <th>4</th>\n",
       "      <td>0.501527</td>\n",
       "      <td>0.755907</td>\n",
       "      <td>0.495794</td>\n",
       "      <td>0.754180</td>\n",
       "    </tr>\n",
       "    <tr>\n",
       "      <th>5</th>\n",
       "      <td>0.481814</td>\n",
       "      <td>0.772847</td>\n",
       "      <td>0.465769</td>\n",
       "      <td>0.778388</td>\n",
       "    </tr>\n",
       "    <tr>\n",
       "      <th>6</th>\n",
       "      <td>0.461351</td>\n",
       "      <td>0.783223</td>\n",
       "      <td>0.448273</td>\n",
       "      <td>0.794609</td>\n",
       "    </tr>\n",
       "    <tr>\n",
       "      <th>7</th>\n",
       "      <td>0.453385</td>\n",
       "      <td>0.786848</td>\n",
       "      <td>0.488409</td>\n",
       "      <td>0.754430</td>\n",
       "    </tr>\n",
       "    <tr>\n",
       "      <th>8</th>\n",
       "      <td>0.436850</td>\n",
       "      <td>0.801288</td>\n",
       "      <td>0.425193</td>\n",
       "      <td>0.808335</td>\n",
       "    </tr>\n",
       "    <tr>\n",
       "      <th>9</th>\n",
       "      <td>0.425458</td>\n",
       "      <td>0.806351</td>\n",
       "      <td>0.435255</td>\n",
       "      <td>0.799102</td>\n",
       "    </tr>\n",
       "  </tbody>\n",
       "</table>\n",
       "</div>"
      ],
      "text/plain": [
       "       loss  accuracy  val_loss  val_accuracy\n",
       "0  0.685428  0.561758  0.671413      0.597454\n",
       "1  0.638222  0.637330  0.589559      0.697779\n",
       "2  0.574970  0.709401  0.526610      0.730472\n",
       "3  0.534788  0.736530  0.498749      0.754679\n",
       "4  0.501527  0.755907  0.495794      0.754180\n",
       "5  0.481814  0.772847  0.465769      0.778388\n",
       "6  0.461351  0.783223  0.448273      0.794609\n",
       "7  0.453385  0.786848  0.488409      0.754430\n",
       "8  0.436850  0.801288  0.425193      0.808335\n",
       "9  0.425458  0.806351  0.435255      0.799102"
      ]
     },
     "execution_count": 43,
     "metadata": {},
     "output_type": "execute_result"
    }
   ],
   "source": [
    "summary = pd.DataFrame(model.history.history)\n",
    "summary"
   ]
  },
  {
   "cell_type": "code",
   "execution_count": 44,
   "id": "15b8ae72",
   "metadata": {},
   "outputs": [
    {
     "data": {
      "image/png": "[encoded data removed]",
      "text/plain": [
       "<Figure size 720x432 with 1 Axes>"
      ]
     },
     "metadata": {
      "needs_background": "light"
     },
     "output_type": "display_data"
    }
   ],
   "source": [
    "plt.figure(figsize=(10,6))\n",
    "plt.plot(summary.loss, label=\"loss\")\n",
    "plt.plot(summary.val_loss, label=\"val_loss\")\n",
    "plt.legend(loc=\"upper right\")\n",
    "plt.ylabel(\"Loss\")\n",
    "plt.xlabel(\"Epoch\")\n",
    "plt.show()"
   ]
  },
  {
   "cell_type": "code",
   "execution_count": 45,
   "id": "9df41ac3",
   "metadata": {},
   "outputs": [
    {
     "data": {
      "image/png": "[encoded data removed]",
      "text/plain": [
       "<Figure size 720x432 with 1 Axes>"
      ]
     },
     "metadata": {
      "needs_background": "light"
     },
     "output_type": "display_data"
    }
   ],
   "source": [
    "plt.figure(figsize=(10,6))\n",
    "plt.plot(summary.accuracy, label=\"accuracy\")\n",
    "plt.plot(summary.val_accuracy, label=\"val_accuracy\")\n",
    "plt.legend(loc=\"upper left\")\n",
    "plt.ylabel(\"Accuracy\")\n",
    "plt.xlabel(\"Epoch\")\n",
    "plt.show()"
   ]
  },
  {
   "cell_type": "code",
   "execution_count": 46,
   "id": "abd2e545",
   "metadata": {},
   "outputs": [
    {
     "data": {
      "text/plain": [
       "['loss', 'accuracy']"
      ]
     },
     "execution_count": 46,
     "metadata": {},
     "output_type": "execute_result"
    }
   ],
   "source": [
    "model.metrics_names"
   ]
  },
  {
   "cell_type": "code",
   "execution_count": 47,
   "id": "3996ac86",
   "metadata": {},
   "outputs": [
    {
     "data": {
      "text/plain": [
       "[0.4311045706272125, 0.7991015911102295]"
      ]
     },
     "execution_count": 47,
     "metadata": {},
     "output_type": "execute_result"
    }
   ],
   "source": [
    "model.evaluate_generator(val_image_gen)"
   ]
  },
  {
   "cell_type": "code",
   "execution_count": 48,
   "id": "a38443b2",
   "metadata": {},
   "outputs": [],
   "source": [
    "pred_probabilities = model.predict_generator(val_image_gen)"
   ]
  },
  {
   "cell_type": "code",
   "execution_count": 49,
   "id": "fc3988d2",
   "metadata": {},
   "outputs": [
    {
     "data": {
      "text/plain": [
       "array([[0.24951068],\n",
       "       [0.01254913],\n",
       "       [0.01276103],\n",
       "       ...,\n",
       "       [0.7757503 ],\n",
       "       [0.9403651 ],\n",
       "       [0.6904893 ]], dtype=float32)"
      ]
     },
     "execution_count": 49,
     "metadata": {},
     "output_type": "execute_result"
    }
   ],
   "source": [
    "pred_probabilities"
   ]
  },
  {
   "cell_type": "code",
   "execution_count": 50,
   "id": "54cfa7d7",
   "metadata": {},
   "outputs": [
    {
     "data": {
      "text/plain": [
       "array([0, 0, 0, ..., 1, 1, 1])"
      ]
     },
     "execution_count": 50,
     "metadata": {},
     "output_type": "execute_result"
    }
   ],
   "source": [
    "val_image_gen.classes"
   ]
  },
  {
   "cell_type": "code",
   "execution_count": 51,
   "id": "a4e39b35",
   "metadata": {},
   "outputs": [],
   "source": [
    "predictions = pred_probabilities > 0.5"
   ]
  },
  {
   "cell_type": "code",
   "execution_count": 52,
   "id": "8773d557",
   "metadata": {},
   "outputs": [
    {
     "data": {
      "text/plain": [
       "array([[False],\n",
       "       [False],\n",
       "       [False],\n",
       "       ...,\n",
       "       [ True],\n",
       "       [ True],\n",
       "       [ True]])"
      ]
     },
     "execution_count": 52,
     "metadata": {},
     "output_type": "execute_result"
    }
   ],
   "source": [
    "predictions"
   ]
  },
  {
   "cell_type": "code",
   "execution_count": 53,
   "id": "37f683bf",
   "metadata": {},
   "outputs": [],
   "source": [
    "from sklearn.metrics import classification_report,confusion_matrix"
   ]
  },
  {
   "cell_type": "code",
   "execution_count": 54,
   "id": "9bcf33e4",
   "metadata": {},
   "outputs": [
    {
     "name": "stdout",
     "output_type": "stream",
     "text": [
      "              precision    recall  f1-score   support\n",
      "\n",
      "           0       0.76      0.89      0.82      1998\n",
      "           1       0.87      0.73      0.79      2009\n",
      "\n",
      "    accuracy                           0.81      4007\n",
      "   macro avg       0.82      0.81      0.81      4007\n",
      "weighted avg       0.82      0.81      0.81      4007\n",
      "\n"
     ]
    }
   ],
   "source": [
    "print(classification_report(val_image_gen.classes,predictions))"
   ]
  },
  {
   "cell_type": "code",
   "execution_count": 55,
   "id": "91a6e9a4",
   "metadata": {},
   "outputs": [
    {
     "data": {
      "text/plain": [
       "array([[1774,  224],\n",
       "       [ 549, 1460]], dtype=int64)"
      ]
     },
     "execution_count": 55,
     "metadata": {},
     "output_type": "execute_result"
    }
   ],
   "source": [
    "confusion_matrix(val_image_gen.classes,predictions)"
   ]
  },
  {
   "cell_type": "code",
   "execution_count": null,
   "id": "56722b23",
   "metadata": {},
   "outputs": [],
   "source": [
    "#from tensorflow.keras.models import load_model\n",
    "#model.save('cat_dog_detector.h5')"
   ]
  },
  {
   "cell_type": "code",
   "execution_count": null,
   "id": "91ffd3cf",
   "metadata": {},
   "outputs": [],
   "source": []
  }
 ],
 "metadata": {
  "kernelspec": {
   "display_name": "Python 3 (ipykernel)",
   "language": "python",
   "name": "python3"
  },
  "language_info": {
   "codemirror_mode": {
    "name": "ipython",
    "version": 3
   },
   "file_extension": ".py",
   "mimetype": "text/x-python",
   "name": "python",
   "nbconvert_exporter": "python",
   "pygments_lexer": "ipython3",
   "version": "3.9.7"
  }
 },
 "nbformat": 4,
 "nbformat_minor": 5
}
